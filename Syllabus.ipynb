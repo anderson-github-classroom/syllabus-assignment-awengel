{
 "cells": [
  {
   "cell_type": "markdown",
   "metadata": {},
   "source": [
    "# Name(s)\n",
    "**Andrew Engel**"
   ]
  },
  {
   "cell_type": "markdown",
   "metadata": {},
   "source": [
    "**Instructions:** This is an individual assignment. Complete the following code and push to get your score."
   ]
  },
  {
   "cell_type": "markdown",
   "metadata": {
    "lines_to_next_cell": 2
   },
   "source": [
    "I am providing the autograder answers locally so you may test your code before pushing. I will be reviewing your submissions, and if I find you are circumventing the autograder in any manner, you will receive a 0 on this assignment and your case will be reported to the honor board for review. i.e., approach the assignment in a genuine manner and you have nothing to worry about.\n"
   ]
  },
  {
   "cell_type": "markdown",
   "metadata": {},
   "source": [
    "**Question 1.**\n",
    "When will new material be available each week?"
   ]
  },
  {
   "cell_type": "markdown",
   "metadata": {},
   "source": [
    "You can answer the question by defining an anonymous function. This creates a function that I can test using pytest. You don't have to worry about the details. You just need to answer the question by changing the string argument that is currently set to \"D\". I know this is a bit weird, but I want you to get used to submitting code as early as possible."
   ]
  },
  {
   "cell_type": "code",
   "execution_count": 1,
   "metadata": {},
   "outputs": [],
   "source": [
    "# Nothing to modify in this cell\n",
    "def question_1(answer):\n",
    "    answers = {\n",
    "        \"A\": \"Monday morning\",\n",
    "        \"B\": \"Sunday night\",\n",
    "        \"C\": \"Monday evening\",\n",
    "        \"D\": \"I don't know\"\n",
    "    }\n",
    "    try:\n",
    "        return answers[answer]\n",
    "    except:\n",
    "        return \"Not a valid answer\""
   ]
  },
  {
   "cell_type": "code",
   "execution_count": 2,
   "metadata": {},
   "outputs": [],
   "source": [
    "# YOUR SOLUTION HERE\n",
    "# Sample incorrect answer\n",
    "answer_question_1 = lambda: question_1(\"C\")"
   ]
  },
  {
   "cell_type": "markdown",
   "metadata": {},
   "source": [
    "**Question 2.**\n",
    "Do I need to buy the textbook?"
   ]
  },
  {
   "cell_type": "code",
   "execution_count": 3,
   "metadata": {},
   "outputs": [],
   "source": [
    "# Nothing to modify in this cell\n",
    "def question_2(answer):\n",
    "    answers = {\n",
    "        \"A\": \"No\",\n",
    "        \"B\": \"Maybe\",\n",
    "        \"C\": \"Yes. You will struggle with some of the chapters without the textbook\",\n",
    "    }\n",
    "    try:\n",
    "        return answers[answer]\n",
    "    except:\n",
    "        return \"Not a valid answer\""
   ]
  },
  {
   "cell_type": "code",
   "execution_count": 4,
   "metadata": {},
   "outputs": [],
   "source": [
    "# YOUR SOLUTION HERE\n",
    "# Sample incorrect answer\n",
    "answer_question_2 = lambda: question_2(\"C\")"
   ]
  },
  {
   "cell_type": "markdown",
   "metadata": {},
   "source": [
    "**Question 3.**\n",
    "Are these any required times that I be online?"
   ]
  },
  {
   "cell_type": "code",
   "execution_count": 5,
   "metadata": {},
   "outputs": [],
   "source": [
    "# Nothing to modify in this cell\n",
    "def question_3(answer):\n",
    "    answers = {\n",
    "        \"A\": \"Yes\",\n",
    "        \"B\": \"No\"\n",
    "    }\n",
    "    try:\n",
    "        return answers[answer]\n",
    "    except:\n",
    "        return \"Not a valid answer\""
   ]
  },
  {
   "cell_type": "code",
   "execution_count": 6,
   "metadata": {},
   "outputs": [],
   "source": [
    "# YOUR SOLUTION HERE\n",
    "# Sample incorrect answer\n",
    "answer_question_3 = lambda: question_3(\"A\")"
   ]
  },
  {
   "cell_type": "markdown",
   "metadata": {},
   "source": [
    "**Question 4.**\n",
    "What software will I use to complete the assignments?"
   ]
  },
  {
   "cell_type": "code",
   "execution_count": 7,
   "metadata": {},
   "outputs": [],
   "source": [
    "# Nothing to modify in this cell\n",
    "def question_4(answer):\n",
    "    answers = {\n",
    "        \"A\": \"Java\",\n",
    "        \"B\": \"Netbeans\",\n",
    "        \"C\": \"Anaconda\"\n",
    "    }\n",
    "    try:\n",
    "        return answers[answer]\n",
    "    except:\n",
    "        return \"Not a valid answer\""
   ]
  },
  {
   "cell_type": "code",
   "execution_count": 8,
   "metadata": {},
   "outputs": [],
   "source": [
    "# YOUR SOLUTION HERE\n",
    "# Sample incorrect answer\n",
    "answer_question_4 = lambda: question_4(\"C\")"
   ]
  },
  {
   "cell_type": "markdown",
   "metadata": {},
   "source": [
    "**Question 5.**\n",
    "Do I need to participate in this class or can I just do the labs and assignments?"
   ]
  },
  {
   "cell_type": "code",
   "execution_count": 9,
   "metadata": {},
   "outputs": [],
   "source": [
    "# Nothing to modify in this cell\n",
    "def question_5(answer):\n",
    "    answers = {\n",
    "        \"A\": \"Yes. If you want to get anything higher than a C, you'll need to do more than the labs and assignments\",\n",
    "        \"B\": \"No\",\n",
    "    }\n",
    "    try:\n",
    "        return answers[answer]\n",
    "    except:\n",
    "        return \"Not a valid answer\""
   ]
  },
  {
   "cell_type": "code",
   "execution_count": 10,
   "metadata": {},
   "outputs": [],
   "source": [
    "# YOUR SOLUTION HERE\n",
    "# Sample incorrect answer\n",
    "answer_question_5 = lambda: question_5(\"A\")"
   ]
  },
  {
   "cell_type": "markdown",
   "metadata": {},
   "source": [
    "Don't forget to push!"
   ]
  },
  {
   "cell_type": "code",
   "execution_count": null,
   "metadata": {},
   "outputs": [],
   "source": []
  }
 ],
 "metadata": {
  "jupytext": {
   "formats": "ipynb,md,py"
  },
  "kernelspec": {
   "display_name": "Python 3",
   "language": "python",
   "name": "python3"
  },
  "language_info": {
   "codemirror_mode": {
    "name": "ipython",
    "version": 3
   },
   "file_extension": ".py",
   "mimetype": "text/x-python",
   "name": "python",
   "nbconvert_exporter": "python",
   "pygments_lexer": "ipython3",
   "version": "3.7.6"
  }
 },
 "nbformat": 4,
 "nbformat_minor": 4
}
